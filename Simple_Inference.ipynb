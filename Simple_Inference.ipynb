{
  "nbformat": 4,
  "nbformat_minor": 0,
  "metadata": {
    "colab": {
      "provenance": []
    },
    "kernelspec": {
      "name": "python3",
      "display_name": "Python 3"
    },
    "language_info": {
      "name": "python"
    }
  },
  "cells": [
    {
      "cell_type": "code",
      "execution_count": 13,
      "metadata": {
        "id": "5Wz5tRi4rOyM"
      },
      "outputs": [],
      "source": [
        "from tensorflow.keras.applications import efficientnet\n",
        "from tensorflow.keras.utils import load_img, img_to_array\n",
        "from tensorflow.keras.models import load_model\n",
        "import zipfile\n",
        "import os\n",
        "import tensorflow as tf\n",
        "import numpy as np\n",
        "\n",
        "# Load the model\n",
        "model = load_model(\"/content/model_checkpoint_best_.keras\")"
      ]
    },
    {
      "cell_type": "code",
      "source": [
        "# Load and preprocess the image\n",
        "image_paths = \"images.jpeg\"\n",
        "def preprocess_image(image_path):\n",
        "    # Load and resize the image\n",
        "    img = load_img(image_path, target_size=(224, 224))  # Match the input size of EfficientNet\n",
        "    img_array = img_to_array(img)  # Convert to NumPy array\n",
        "    img_array = efficientnet.preprocess_input(img_array)  # Apply EfficientNet preprocessing\n",
        "    img_array = np.expand_dims(img_array, axis=0)  # Add batch dimension\n",
        "    return img_array"
      ],
      "metadata": {
        "id": "B2IbnEKkrRaY"
      },
      "execution_count": 17,
      "outputs": []
    },
    {
      "cell_type": "code",
      "source": [
        "# Make predictions\n",
        "predictions = model.predict(preprocess_image(image_path=image_paths))\n",
        "print(predictions)\n",
        "\n",
        "# Get the predicted class\n",
        "predicted_class = np.argmax(predictions, axis=1)\n",
        "print(\"Predicted Class:\", predicted_class)"
      ],
      "metadata": {
        "colab": {
          "base_uri": "https://localhost:8080/"
        },
        "id": "X_w56zTprTFd",
        "outputId": "7d786fef-e5a9-4987-df42-98c2448d6159"
      },
      "execution_count": 18,
      "outputs": [
        {
          "output_type": "stream",
          "name": "stdout",
          "text": [
            "\u001b[1m1/1\u001b[0m \u001b[32m━━━━━━━━━━━━━━━━━━━━\u001b[0m\u001b[37m\u001b[0m \u001b[1m0s\u001b[0m 100ms/step\n",
            "[[9.0274170e-08 5.8846471e-08 6.6647587e-08 3.5783718e-09 9.9992239e-01\n",
            "  2.3522086e-06 6.4510502e-08 1.9941510e-06 2.7990156e-06 7.9112468e-08\n",
            "  1.8430608e-08 4.5005617e-08 1.2662093e-07 3.2835391e-07 2.0539557e-05\n",
            "  1.1995868e-07 4.7569419e-08 8.2686556e-06 5.0079882e-07 3.1211417e-05\n",
            "  1.1311832e-07 2.7040716e-07 1.4132006e-06 6.8073346e-06 4.6785587e-08\n",
            "  2.4929656e-07]]\n",
            "Predicted Class: [4]\n"
          ]
        }
      ]
    },
    {
      "cell_type": "code",
      "source": [
        "# Define the label mapping\n",
        "label_mapping = {\n",
        "    0: \"Aceh_Pintu_Aceh\",\n",
        "    1: \"Bali_Barong\",\n",
        "    2: \"Bali_Merak\",\n",
        "    3: \"DKI_Ondel_Ondel\",\n",
        "    4: \"Jawa_Barat_Megamendung\",\n",
        "    5: \"Jawa_Tengah_Batik_Lasem\",\n",
        "    6: \"Jawa_Timur_Pring\",\n",
        "    7: \"Kalimantan_Barat_Insang\",\n",
        "    8: \"Kalimantan_Dayak\",\n",
        "    9: \"Lampung_Gajah\",\n",
        "    10: \"Madura_Mataketeran\",\n",
        "    11: \"Maluku_Pala\",\n",
        "    12: \"NTB_Lumbung\",\n",
        "    13: \"Palembang_Songket\",\n",
        "    14: \"Papua_Asmat\",\n",
        "    15: \"Papua_Cendrawasih\",\n",
        "    16: \"Papua_Tifa\",\n",
        "    17: \"Solo_Parang\",\n",
        "    18: \"Solo_Sidoluhur\",\n",
        "    19: \"Solo_Sogan\",\n",
        "    20: \"Solo_Truntum\",\n",
        "    21: \"Sulawesi_Selatan_Lontara\",\n",
        "    22: \"Sumatera_Barat_Rumah_Minang\",\n",
        "    23: \"Sumatera_Utara_Boraspati\",\n",
        "    24: \"Yogyakarta_Kawung\",\n",
        "    25: \"Yogyakarta_Sidomukti\"\n",
        "}\n",
        "\n",
        "n = int(predicted_class)\n",
        "print(label_mapping[n])"
      ],
      "metadata": {
        "colab": {
          "base_uri": "https://localhost:8080/"
        },
        "id": "1s3f5grRrYkB",
        "outputId": "1455bfae-56d9-4c50-b3c7-8139bbbd34cc"
      },
      "execution_count": 19,
      "outputs": [
        {
          "output_type": "stream",
          "name": "stdout",
          "text": [
            "Jawa_Barat_Megamendung\n"
          ]
        },
        {
          "output_type": "stream",
          "name": "stderr",
          "text": [
            "<ipython-input-19-955cdd91e242>:31: DeprecationWarning: Conversion of an array with ndim > 0 to a scalar is deprecated, and will error in future. Ensure you extract a single element from your array before performing this operation. (Deprecated NumPy 1.25.)\n",
            "  n = int(predicted_class)\n"
          ]
        }
      ]
    }
  ]
}